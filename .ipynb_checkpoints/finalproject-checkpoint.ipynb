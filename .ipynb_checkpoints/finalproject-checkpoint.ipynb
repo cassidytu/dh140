{
 "cells": [
  {
   "cell_type": "markdown",
   "id": "83be7524",
   "metadata": {},
   "source": [
    "## Introduction\n",
    "Description:\n",
    "Sources:\n",
    "Motivation:\n",
    "Question:"
   ]
  },
  {
   "cell_type": "markdown",
   "id": "49328e14",
   "metadata": {},
   "source": [
    "## Data\n",
    "Summary:\n",
    "Exploratory Data Visualizations (4)"
   ]
  },
  {
   "cell_type": "markdown",
   "id": "133a2f28",
   "metadata": {},
   "source": [
    "## Analysis\n",
    "Data Visualizations (4)"
   ]
  },
  {
   "cell_type": "code",
   "execution_count": null,
   "id": "828d36ee",
   "metadata": {},
   "outputs": [],
   "source": []
  }
 ],
 "metadata": {
  "kernelspec": {
   "display_name": "Python 3 (ipykernel)",
   "language": "python",
   "name": "python3"
  },
  "language_info": {
   "codemirror_mode": {
    "name": "ipython",
    "version": 3
   },
   "file_extension": ".py",
   "mimetype": "text/x-python",
   "name": "python",
   "nbconvert_exporter": "python",
   "pygments_lexer": "ipython3",
   "version": "3.10.8"
  }
 },
 "nbformat": 4,
 "nbformat_minor": 5
}
